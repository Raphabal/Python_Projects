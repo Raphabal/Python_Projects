{
  "nbformat": 4,
  "nbformat_minor": 0,
  "metadata": {
    "colab": {
      "provenance": []
    },
    "kernelspec": {
      "name": "python3",
      "display_name": "Python 3"
    },
    "language_info": {
      "name": "python"
    }
  },
  "cells": [
    {
      "cell_type": "code",
      "execution_count": null,
      "metadata": {
        "id": "amzsV_ryuI6z"
      },
      "outputs": [],
      "source": [
        "import pandas as pd"
      ]
    },
    {
      "cell_type": "code",
      "source": [
        "print('Peso, Kg')\n",
        "peso = float(input())"
      ],
      "metadata": {
        "colab": {
          "base_uri": "https://localhost:8080/"
        },
        "id": "rBqJyICsyGE7",
        "outputId": "04396eb3-71b6-4402-89c8-3ecb65c6af45"
      },
      "execution_count": null,
      "outputs": [
        {
          "name": "stdout",
          "output_type": "stream",
          "text": [
            "Peso, Kg\n",
            "73.25\n"
          ]
        }
      ]
    },
    {
      "cell_type": "code",
      "source": [
        "print('Agua, %')\n",
        "agua = float(input())"
      ],
      "metadata": {
        "colab": {
          "base_uri": "https://localhost:8080/"
        },
        "id": "RfnQRp0WyJEy",
        "outputId": "e09bd734-8fb5-4397-eeb6-ba0ffa13ddb8"
      },
      "execution_count": null,
      "outputs": [
        {
          "name": "stdout",
          "output_type": "stream",
          "text": [
            "Agua, %\n",
            "54.2\n"
          ]
        }
      ]
    },
    {
      "cell_type": "code",
      "source": [
        "print('Bfat, %')\n",
        "bfat = float(input())"
      ],
      "metadata": {
        "colab": {
          "base_uri": "https://localhost:8080/"
        },
        "id": "8CCzeV2wyKm7",
        "outputId": "e26f3535-6154-4cdd-a505-15c8975391fb"
      },
      "execution_count": null,
      "outputs": [
        {
          "name": "stdout",
          "output_type": "stream",
          "text": [
            "Bfat, %\n",
            "21\n"
          ]
        }
      ]
    },
    {
      "cell_type": "code",
      "source": [
        "print('Musculo, Kg')\n",
        "muscle = float(input())"
      ],
      "metadata": {
        "colab": {
          "base_uri": "https://localhost:8080/"
        },
        "id": "zk8bf9egyLyb",
        "outputId": "932071bf-e4df-4a13-84e2-a44fb1c25386"
      },
      "execution_count": null,
      "outputs": [
        {
          "name": "stdout",
          "output_type": "stream",
          "text": [
            "Musculo, Kg\n",
            "54.9\n"
          ]
        }
      ]
    },
    {
      "cell_type": "code",
      "source": [
        "print('Proteina, %')\n",
        "protein = float(input())"
      ],
      "metadata": {
        "colab": {
          "base_uri": "https://localhost:8080/"
        },
        "id": "vhcOozP8yM8r",
        "outputId": "2375037e-cfb8-4476-97ca-9a5553ce646a"
      },
      "execution_count": null,
      "outputs": [
        {
          "name": "stdout",
          "output_type": "stream",
          "text": [
            "Proteina, %\n",
            "20.8\n"
          ]
        }
      ]
    },
    {
      "cell_type": "code",
      "source": [
        "print('Massa Ossea, Kg')\n",
        "bonemass = float(input())"
      ],
      "metadata": {
        "colab": {
          "base_uri": "https://localhost:8080/"
        },
        "id": "GA0xtHMvyN7s",
        "outputId": "bfb21d48-ea37-4dd7-8ee3-341682739f2d"
      },
      "execution_count": null,
      "outputs": [
        {
          "name": "stdout",
          "output_type": "stream",
          "text": [
            "Massa Ossea, Kg\n",
            "2.94\n"
          ]
        }
      ]
    },
    {
      "cell_type": "code",
      "source": [
        "#print('Visceral, int')\n",
        "#visc = input()"
      ],
      "metadata": {
        "id": "LCjMKF9MyQ_D"
      },
      "execution_count": null,
      "outputs": []
    },
    {
      "cell_type": "code",
      "source": [
        "agua = agua / 100\n",
        "agua"
      ],
      "metadata": {
        "colab": {
          "base_uri": "https://localhost:8080/"
        },
        "id": "TrYccJA0zefs",
        "outputId": "bfa38dec-bfbc-4f17-952a-bb89c0232ffa"
      },
      "execution_count": null,
      "outputs": [
        {
          "output_type": "execute_result",
          "data": {
            "text/plain": [
              "0.542"
            ]
          },
          "metadata": {},
          "execution_count": 11
        }
      ]
    },
    {
      "cell_type": "code",
      "source": [
        "bfat = bfat / 100\n",
        "bfat"
      ],
      "metadata": {
        "colab": {
          "base_uri": "https://localhost:8080/"
        },
        "id": "98udUbO70u87",
        "outputId": "1e7cf2ea-75ad-4104-805c-602dfa10ac7f"
      },
      "execution_count": null,
      "outputs": [
        {
          "output_type": "execute_result",
          "data": {
            "text/plain": [
              "0.21"
            ]
          },
          "metadata": {},
          "execution_count": 12
        }
      ]
    },
    {
      "cell_type": "code",
      "source": [
        "protein = protein / 100\n",
        "protein"
      ],
      "metadata": {
        "colab": {
          "base_uri": "https://localhost:8080/"
        },
        "id": "0YEAiqFz1BVu",
        "outputId": "12138344-4cd1-40a1-b431-153140552532"
      },
      "execution_count": null,
      "outputs": [
        {
          "output_type": "execute_result",
          "data": {
            "text/plain": [
              "0.20800000000000002"
            ]
          },
          "metadata": {},
          "execution_count": 13
        }
      ]
    },
    {
      "cell_type": "code",
      "source": [
        "pesoagua = agua * peso\n",
        "print('peso em kg da agua', pesoagua,'Kg')\n",
        "\n",
        "pesobfat = bfat * peso\n",
        "print('peso em kg da bfat', pesobfat,'Kg')\n",
        "\n",
        "pesoprotein = protein * peso\n",
        "print('peso em kg da protein', pesoprotein,'Kg')"
      ],
      "metadata": {
        "colab": {
          "base_uri": "https://localhost:8080/"
        },
        "id": "3wFgmk2ru3EU",
        "outputId": "c5c58a18-a785-4076-f81b-20edced2c837"
      },
      "execution_count": null,
      "outputs": [
        {
          "output_type": "stream",
          "name": "stdout",
          "text": [
            "peso em kg da agua 39.7015 Kg\n",
            "peso em kg da bfat 15.3825 Kg\n",
            "peso em kg da protein 15.236 Kg\n"
          ]
        }
      ]
    },
    {
      "cell_type": "code",
      "source": [],
      "metadata": {
        "id": "qa_MWxhUyxZ1"
      },
      "execution_count": null,
      "outputs": []
    },
    {
      "cell_type": "code",
      "source": [],
      "metadata": {
        "id": "hvxHelLD0s8b"
      },
      "execution_count": null,
      "outputs": []
    }
  ]
}