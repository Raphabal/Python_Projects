{
  "cells": [
    {
      "cell_type": "code",
      "execution_count": null,
      "metadata": {
        "id": "wV4DbOujZmbX"
      },
      "outputs": [],
      "source": [
        "from google.colab import drive\n",
        "drive.mount('/content/drive')"
      ]
    },
    {
      "cell_type": "code",
      "execution_count": null,
      "metadata": {
        "id": "83ZwK9VpALWD"
      },
      "outputs": [],
      "source": [
        "import pandas as pd"
      ]
    },
    {
      "cell_type": "code",
      "execution_count": null,
      "metadata": {
        "id": "ly-fqFKqdSK0"
      },
      "outputs": [],
      "source": [
        "# Acesso ao Drive\n",
        "#arquivo_sobe = '/content/drive/MyDrive/Financeiro/2025/Recebidos/Todos/Relatório de Acompanhamento de Rematrícula - 30_04_2025.xls'\n",
        "arquivo_sobe = '/content/drive/MyDrive/Financeiro/2025/Recebidos/Todos/Relatório de Acompanhamento de Rematrícula - 31_05_2025.xls'"
      ]
    },
    {
      "cell_type": "code",
      "execution_count": null,
      "metadata": {
        "id": "ZECVRMnBtO2y"
      },
      "outputs": [],
      "source": [
        "df_matricula = pd.read_excel(arquivo_sobe, header=3) #index_col define novo index(coluna esq como indice)\n",
        "#df_matricula = pd.read_excel('Relatório de Acompanhamento de Rematrícula - 31_03_2024.xls', header=3) #index_col define novo index(coluna esq como indice)"
      ]
    },
    {
      "cell_type": "code",
      "execution_count": null,
      "metadata": {
        "id": "vZ4rVeuv-65P"
      },
      "outputs": [],
      "source": [
        "df_matricula.head(3)"
      ]
    },
    {
      "cell_type": "code",
      "execution_count": null,
      "metadata": {
        "id": "siaZaV6cthit"
      },
      "outputs": [],
      "source": [
        "#Mostra colunas existentes:\n",
        "df_matricula.columns"
      ]
    },
    {
      "cell_type": "code",
      "execution_count": null,
      "metadata": {
        "id": "o99lpP24hQVt"
      },
      "outputs": [],
      "source": [
        "df_matriculas = df_matricula.rename(columns={'Unidade (Colégio)': 'Empresa', 'Matrícula Aluno': 'Codigo', 'Nome do Aluno': 'Nome', 'Data de nascimento': 'Nascimento'})"
      ]
    },
    {
      "cell_type": "code",
      "execution_count": null,
      "metadata": {
        "id": "HT2nQuJ2yLXg"
      },
      "outputs": [],
      "source": [
        "df_matriculas.index"
      ]
    },
    {
      "cell_type": "code",
      "execution_count": null,
      "metadata": {
        "id": "rGP6MLstuoTg"
      },
      "outputs": [],
      "source": [
        "# Seleciona apenas colunas Desejadas\n",
        "df_matricula = df_matriculas[['Empresa', 'Codigo', 'Nome', 'Data Matrícula', 'Situação', 'Tipo Aluno', 'Nome Resp. Financeiro',\n",
        "       'Curso', 'Série', 'Nascimento', 'Ano de Entrada', 'Pendência Financeira', 'Primeira Paga', 'Etapa Rematrícula', 'Turma','Bolsa CCT', 'Bolsa DC', 'E-mail Resp. Financeiro',\n",
        "       'E-mail Resp. Residência']]"
      ]
    },
    {
      "cell_type": "code",
      "execution_count": null,
      "metadata": {
        "id": "96GGSpO8uwo8"
      },
      "outputs": [],
      "source": [
        "df_matricula.columns"
      ]
    },
    {
      "cell_type": "code",
      "execution_count": null,
      "metadata": {
        "id": "cnXhLCny-7tE"
      },
      "outputs": [],
      "source": [
        "# ['IEBURIX ALOISE', 'IEBURIX THAZMANA', 'IEBURIX WHALUZ', 'MONAN'],\n",
        "df_matricula['Empresa'].unique()"
      ]
    },
    {
      "cell_type": "code",
      "execution_count": null,
      "metadata": {
        "id": "YAgsHzs3F1hk"
      },
      "outputs": [],
      "source": [
        "df_matricula['Situação'].unique()"
      ]
    },
    {
      "cell_type": "code",
      "execution_count": null,
      "metadata": {
        "id": "amWNZzZ1Cyl-"
      },
      "outputs": [],
      "source": [
        "df_matricula.info()"
      ]
    },
    {
      "cell_type": "code",
      "execution_count": null,
      "metadata": {
        "id": "4sBj4XgPFIaC"
      },
      "outputs": [],
      "source": [
        "#Filtra somente MATRICULAS EM SITUAÇÃO MT, NC e PM\n",
        "situacao = ['MT', 'NC', 'PM']\n",
        "\n",
        "# selecting rows based on condition\n",
        "#df_matricula = df_matricula[df_matricula['Situação'].isin(situacao)]\n",
        "df_matricula = df_matricula.loc[df_matricula['Situação'].isin(situacao)]"
      ]
    },
    {
      "cell_type": "code",
      "execution_count": null,
      "metadata": {
        "id": "xT4MAyW-GPc8"
      },
      "outputs": [],
      "source": [
        "df_matricula['Situação'].unique()"
      ]
    },
    {
      "cell_type": "code",
      "execution_count": null,
      "metadata": {
        "id": "8KW6d4q_vrmx"
      },
      "outputs": [],
      "source": [
        "df_matricula.head(2)"
      ]
    },
    {
      "cell_type": "markdown",
      "metadata": {
        "id": "jDL6IATzGwcQ"
      },
      "source": [
        "#Modificando colunas conforme seu tipo de dado correto"
      ]
    },
    {
      "cell_type": "code",
      "execution_count": null,
      "metadata": {
        "id": "Nb9b3UQ0Gn9M"
      },
      "outputs": [],
      "source": [
        "#df_matricula[['Codigo', 'Ano de Entrada']] = df_matricula[['Codigo', 'Ano de Entrada']].astype(str).astype(int)"
      ]
    },
    {
      "cell_type": "code",
      "execution_count": null,
      "metadata": {
        "id": "OQMVJcUYH7Cf"
      },
      "outputs": [],
      "source": [
        "#df_matriculasfiltro2['Data Matrícula'] = pd.to_datetime(df_matriculasfiltro2['Data Matrícula'], dayfirst=True, format='%d/%m/%y')\n",
        "df_matricula['Data Matrícula'] = pd.to_datetime(df_matricula['Data Matrícula'], dayfirst=True)\n",
        "df_matricula['Nascimento'] = pd.to_datetime(df_matricula['Nascimento'], dayfirst=True)"
      ]
    },
    {
      "cell_type": "code",
      "execution_count": null,
      "metadata": {
        "id": "QZYZwgiMIXiy"
      },
      "outputs": [],
      "source": [
        "# Example 1: Sort DataFrame by date column\n",
        "df_matricula.sort_values(by='Data Matrícula', inplace = True)"
      ]
    },
    {
      "cell_type": "code",
      "execution_count": null,
      "metadata": {
        "id": "_EfFKpJrRPkG"
      },
      "outputs": [],
      "source": [
        "df_matricula.info()"
      ]
    },
    {
      "cell_type": "code",
      "execution_count": null,
      "metadata": {
        "id": "JlRkl5QSox1x"
      },
      "outputs": [],
      "source": [
        "df_matricula.head(2)"
      ]
    },
    {
      "cell_type": "code",
      "execution_count": null,
      "metadata": {
        "id": "BDJNcwW7_rOB"
      },
      "outputs": [],
      "source": [
        "df_matricula.tail(2)"
      ]
    },
    {
      "cell_type": "code",
      "execution_count": null,
      "metadata": {
        "id": "NvVlexjcbR7q"
      },
      "outputs": [],
      "source": [
        "print(df_matricula['Data Matrícula'].min())\n",
        "print(df_matricula['Data Matrícula'].max())"
      ]
    },
    {
      "cell_type": "code",
      "execution_count": null,
      "metadata": {
        "id": "3dH6hEhzl_3Q"
      },
      "outputs": [],
      "source": [
        "#Extrai o mês da coluna Data\n",
        "#df_periodos = df_pgto\n",
        "df_matricula['Ano_Mes'] = df_matricula['Data Matrícula'].dt.strftime('%Y-%m')\n",
        "\n",
        "df_matricula['Mês'] = df_matricula['Data Matrícula'].dt.month\n",
        "\n",
        "#Extrai o Ano da coluna Data\n",
        "df_matriculas['Ano'] = df_matricula['Data Matrícula'].dt.year\n",
        "df_matricula.head(5)"
      ]
    },
    {
      "cell_type": "code",
      "execution_count": null,
      "metadata": {
        "id": "Pi77Y5MHrrfS"
      },
      "outputs": [],
      "source": [
        "matriculas_aloise = df_matricula[df_matricula['Empresa'] == \"IEBURIX ALOISE\"]\n",
        "matriculas_whaluz = df_matricula[df_matricula['Empresa'] == \"IEBURIX WHALUZ\"]\n",
        "matriculas_monan = df_matricula[df_matricula['Empresa'] == \"MONAN\"]\n",
        "#matriculas_thazmana = df_matricula[df_matricula['Empresa'] == \"IEBURIX THAZMANA\"]"
      ]
    },
    {
      "cell_type": "code",
      "execution_count": null,
      "metadata": {
        "id": "WuEL0IDTuicE"
      },
      "outputs": [],
      "source": [
        "matriculas_aloise.head(2)"
      ]
    },
    {
      "cell_type": "code",
      "execution_count": null,
      "metadata": {
        "id": "Wuot7u7J7mCr"
      },
      "outputs": [],
      "source": [
        "matriculas_whaluz.head(2)"
      ]
    },
    {
      "cell_type": "code",
      "execution_count": null,
      "metadata": {
        "id": "lkZg62__7mID"
      },
      "outputs": [],
      "source": [
        "matriculas_monan.head(2)"
      ]
    },
    {
      "cell_type": "code",
      "execution_count": null,
      "metadata": {
        "id": "T2nxBDsuripo"
      },
      "outputs": [],
      "source": [
        "total_de_matriculas = df_matricula['Nome'].count()\n",
        "total_de_matriculas_aloise = matriculas_aloise['Nome'].count()\n",
        "total_de_matriculas_monan = matriculas_monan['Nome'].count()\n",
        "total_de_matriculas_whaluz = matriculas_whaluz['Nome'].count()\n",
        "#total_de_matriculas_thazmana = matriculas_thazmana['Nome'].count()"
      ]
    },
    {
      "cell_type": "code",
      "execution_count": null,
      "metadata": {
        "id": "mzB6zbhTsnDl"
      },
      "outputs": [],
      "source": [
        "total_de_matriculas"
      ]
    },
    {
      "cell_type": "code",
      "execution_count": null,
      "metadata": {
        "id": "tQ6fDRuBnr5y"
      },
      "outputs": [],
      "source": [
        "# Usando groupby para contar o número de vezes que cada nome aparece por empresa\n",
        "contagem_por_empresa = df_matricula.groupby(['Empresa']).size().reset_index(name='contagem')\n",
        "\n",
        "contagem_por_empresa"
      ]
    },
    {
      "cell_type": "markdown",
      "metadata": {
        "id": "gzuiEB8AxG3m"
      },
      "source": [
        "# TABELA REMATRICULA"
      ]
    },
    {
      "cell_type": "code",
      "execution_count": null,
      "metadata": {
        "id": "6P49vRgIrcEh"
      },
      "outputs": [],
      "source": [
        "tabela_de_rematriculas = {'Empresa': ['Total', 'Aloise', 'Monan', #'Thazmana',\n",
        "                                      'Whaluz'],\n",
        "     \"Alunos2024\": [total_de_matriculas, total_de_matriculas_aloise, total_de_matriculas_monan,# total_de_matriculas_thazmana,\n",
        "                    total_de_matriculas_whaluz] }\n",
        "tabela_de_rematriculas = pd.DataFrame(data=tabela_de_rematriculas).T\n",
        "tabela_de_rematriculas"
      ]
    },
    {
      "cell_type": "markdown",
      "metadata": {
        "id": "OFVPh4N-vctG"
      },
      "source": [
        "# Tabela Matriculas Por Mes"
      ]
    },
    {
      "cell_type": "markdown",
      "metadata": {
        "id": "kkNoYayZz5b2"
      },
      "source": [
        "Apenas mes\n"
      ]
    },
    {
      "cell_type": "code",
      "execution_count": null,
      "metadata": {
        "id": "tAOdDEI5MN-9"
      },
      "outputs": [],
      "source": [
        "# Usando groupby para contar o número de vezes que cada nome aparece por empresa\n",
        "contagem_mes_alo = matriculas_aloise.groupby(['Ano_Mes']).size().reset_index(name='contagem')\n",
        "\n",
        "contagem_mes_alo"
      ]
    },
    {
      "cell_type": "code",
      "execution_count": null,
      "metadata": {
        "id": "_5SVHBGlNW_N"
      },
      "outputs": [],
      "source": [
        "# Usando groupby para contar o número de vezes que cada nome aparece por empresa\n",
        "contagem_mes_mon = matriculas_monan.groupby(['Ano_Mes']).size().reset_index(name='contagem')\n",
        "\n",
        "contagem_mes_mon"
      ]
    },
    {
      "cell_type": "code",
      "execution_count": null,
      "metadata": {
        "id": "hqykX6_uNXSM"
      },
      "outputs": [],
      "source": [
        "# Usando groupby para contar o número de vezes que cada nome aparece por empresa\n",
        "contagem_mes_wha = matriculas_whaluz.groupby(['Ano_Mes']).size().reset_index(name='contagem')\n",
        "\n",
        "contagem_mes_wha"
      ]
    },
    {
      "cell_type": "code",
      "execution_count": null,
      "metadata": {
        "id": "BnRlAS37bwro"
      },
      "outputs": [],
      "source": [
        "#tabela_matriculas_mes.columns"
      ]
    },
    {
      "cell_type": "code",
      "execution_count": null,
      "metadata": {
        "id": "gYXqxn5GdPUa"
      },
      "outputs": [],
      "source": [
        "#tabela_matriculas_mes.info()"
      ]
    },
    {
      "cell_type": "markdown",
      "metadata": {
        "id": "jEYv8brazT9D"
      },
      "source": [
        "# Juntar tabelas"
      ]
    },
    {
      "cell_type": "code",
      "execution_count": null,
      "metadata": {
        "id": "kKoj8fOTzTx-"
      },
      "outputs": [],
      "source": [
        "#tabela_matriculas = pd.concat([tabela_de_rematriculas, tabela_matriculas_mes, tabela_matriculas_fase], axis=1)"
      ]
    },
    {
      "cell_type": "code",
      "execution_count": null,
      "metadata": {
        "id": "HzKKT-B_zmDx"
      },
      "outputs": [],
      "source": [
        "df_matricula.info()"
      ]
    },
    {
      "cell_type": "code",
      "execution_count": null,
      "metadata": {
        "id": "UBxIC3GmqqYy"
      },
      "outputs": [],
      "source": [
        "from datetime import datetime, date"
      ]
    },
    {
      "cell_type": "code",
      "execution_count": null,
      "metadata": {
        "id": "-Lg-apZlqnJj"
      },
      "outputs": [],
      "source": [
        "today = date.today()"
      ]
    },
    {
      "cell_type": "code",
      "execution_count": null,
      "metadata": {
        "id": "OT-CBXbWq8T7"
      },
      "outputs": [],
      "source": [
        "now = pd.Timestamp('now')"
      ]
    },
    {
      "cell_type": "code",
      "execution_count": null,
      "metadata": {
        "id": "7kpi2ci3rZQG"
      },
      "outputs": [],
      "source": [
        "df_matricula.head()"
      ]
    },
    {
      "cell_type": "code",
      "execution_count": null,
      "metadata": {
        "id": "dp_rco_LqnrR"
      },
      "outputs": [],
      "source": [
        "#df = pd.DataFrame(data=df_matricula)\n",
        "\n",
        "def calculate_age(born):\n",
        "    #born = datetime.strptime(born, \"%d.%m.%Y\").date()\n",
        "    today = date.today()\n",
        "    return today.year - born.year - ((today.month, today.day) < (born.month, born.day))\n"
      ]
    },
    {
      "cell_type": "markdown",
      "metadata": {
        "id": "eOW1wMEDsU8i"
      },
      "source": []
    },
    {
      "cell_type": "code",
      "execution_count": null,
      "metadata": {
        "id": "nzSPwlDusSFW"
      },
      "outputs": [],
      "source": [
        "df_matricula['Idade'] = df_matricula['Nascimento'].apply(calculate_age)\n",
        "print(df_matricula)"
      ]
    },
    {
      "cell_type": "code",
      "execution_count": null,
      "metadata": {
        "id": "sv2HXw_ir-IA"
      },
      "outputs": [],
      "source": [
        "df_matricula.head()"
      ]
    },
    {
      "cell_type": "code",
      "execution_count": null,
      "metadata": {
        "id": "cTTCaGVNWJPT"
      },
      "outputs": [],
      "source": [
        "df_matricula['Empresa'].unique()"
      ]
    },
    {
      "cell_type": "code",
      "execution_count": null,
      "metadata": {
        "id": "qbXbzuRZXAAR"
      },
      "outputs": [],
      "source": [
        "df_matricula_barao = df_matricula.drop(df_matricula[df_matricula.Empresa == 'MONAN'].index)"
      ]
    },
    {
      "cell_type": "code",
      "execution_count": null,
      "metadata": {
        "id": "24ejdfuuXLlZ"
      },
      "outputs": [],
      "source": [
        "print(df_matricula_barao['Empresa'].unique())\n",
        "print(df_matricula_barao['Tipo Aluno'].unique())"
      ]
    },
    {
      "cell_type": "code",
      "execution_count": null,
      "metadata": {
        "id": "M0aVd0AIYPeo"
      },
      "outputs": [],
      "source": [
        "df_matricula_barao_rematricula = df_matricula_barao.drop(df_matricula_barao[df_matricula_barao['Tipo Aluno'] == 'Novo'].index)\n",
        "df_matricula_barao_rematricula['Tipo Aluno'].unique()"
      ]
    },
    {
      "cell_type": "code",
      "execution_count": null,
      "metadata": {
        "id": "8zPa5MApXlGr"
      },
      "outputs": [],
      "source": [
        "df_matricula_barao_novos = df_matricula_barao.drop(df_matricula_barao[df_matricula_barao['Tipo Aluno'] == 'Antigo'].index)"
      ]
    },
    {
      "cell_type": "code",
      "execution_count": null,
      "metadata": {
        "id": "xV-GN31IX-ex"
      },
      "outputs": [],
      "source": [
        "df_matricula_barao_novos['Tipo Aluno'].unique()"
      ]
    },
    {
      "cell_type": "code",
      "execution_count": null,
      "metadata": {
        "id": "4tmEW4FGE6XD"
      },
      "outputs": [],
      "source": [
        "df_matricula_barao_novos['Turma Atual'] = ''"
      ]
    },
    {
      "cell_type": "code",
      "execution_count": null,
      "metadata": {
        "id": "uvtPBSkcD22L"
      },
      "outputs": [],
      "source": [
        "df_matricula_barao_novos.columns"
      ]
    },
    {
      "cell_type": "code",
      "execution_count": null,
      "metadata": {
        "id": "QgdtDY24E-47"
      },
      "outputs": [],
      "source": [
        "df_matricula_barao_novos.tail(2)"
      ]
    },
    {
      "cell_type": "code",
      "execution_count": null,
      "metadata": {
        "id": "hm-kL1pGEAbz"
      },
      "outputs": [],
      "source": [
        "df_matricula_barao_novos = df_matricula_barao_novos[['Empresa', 'Codigo', 'Nome', 'Data Matrícula', 'Situação', 'Tipo Aluno', 'Turma Atual', 'Turma',\n",
        "       'Nome Resp. Financeiro', 'Curso', 'Série', 'Nascimento', 'Ano de Entrada', 'Pendência Financeira', 'Primeira Paga',\n",
        "       'Etapa Rematrícula', 'Ano_Mes', 'Mês', 'Idade', 'Bolsa CCT', 'Bolsa DC', 'E-mail Resp. Financeiro',\n",
        "       'E-mail Resp. Residência']]"
      ]
    },
    {
      "cell_type": "code",
      "execution_count": null,
      "metadata": {
        "id": "1SlHsl4Rll4m"
      },
      "outputs": [],
      "source": [
        "#Por Bolsa 100%\n",
        "bolsa = 'DC 100.00% Parcela de 01 a 12'\n",
        "bolsistas = df_matricula[df_matricula['Bolsa DC'] == bolsa]\n",
        "bolsistas"
      ]
    },
    {
      "cell_type": "code",
      "execution_count": null,
      "metadata": {
        "id": "4xqCHwzpEhnz"
      },
      "outputs": [],
      "source": [
        "#mat_filtro.columns"
      ]
    },
    {
      "cell_type": "code",
      "execution_count": null,
      "metadata": {
        "id": "-VGq4-xkCEBY"
      },
      "outputs": [],
      "source": [
        "#df['sales'] / df.groupby('state')['sales'].transform('sum')\n",
        "#df_matricula_barao['Tipo Aluno'] / df_matricula_barao.groupby('Empresa')['Tipo Aluno'].transform('count')\n",
        "tot = df_matricula_barao.groupby('Tipo Aluno')"
      ]
    },
    {
      "cell_type": "code",
      "execution_count": null,
      "metadata": {
        "id": "xGwuA8U9mOP9"
      },
      "outputs": [],
      "source": [
        "# Usando groupby para contar o número de vezes que cada nome aparece por empresa\n",
        "tab_remat_e_novas_por_empresa = df_matricula_barao.groupby(['Empresa', 'Tipo Aluno']).size().reset_index(name='Total')\n",
        "tab_remat_e_novas_por_empresa"
      ]
    },
    {
      "cell_type": "code",
      "execution_count": null,
      "metadata": {
        "id": "s5q9q1VtI4KV"
      },
      "outputs": [],
      "source": [
        "# Usando groupby para contar o número de vezes que cada nome aparece por empresa\n",
        "tab_remat_e_novas = df_matricula_barao.groupby(['Tipo Aluno']).size().reset_index(name='Total')\n",
        "tab_remat_e_novas"
      ]
    },
    {
      "cell_type": "markdown",
      "metadata": {
        "id": "19oeLF0hzvZ8"
      },
      "source": [
        "# Salva em Excel"
      ]
    },
    {
      "cell_type": "code",
      "execution_count": null,
      "metadata": {
        "id": "pighD--1dqx4"
      },
      "outputs": [],
      "source": [
        "# DRIVE\n",
        "arquivo_desce = '/content/drive/MyDrive/Financeiro/2025/Recebidos/Analises/Matriculas2025 Alunos.xlsx'"
      ]
    },
    {
      "cell_type": "code",
      "execution_count": null,
      "metadata": {
        "id": "8LEBDFUbt1Xv"
      },
      "outputs": [],
      "source": [
        "with pd.ExcelWriter(arquivo_desce) as writer:\n",
        "\n",
        "  df_matricula.to_excel(writer, sheet_name=\"MatriculasTD\")\n",
        "  df_matricula_barao.to_excel(writer, sheet_name=\"MatBarãoTD\")\n",
        "  df_matricula_barao_rematricula.to_excel(writer, sheet_name=\"BarãoRemat\")\n",
        "  df_matricula_barao_novos.to_excel(writer, sheet_name=\"MatNovasBarão\")\n",
        "  matriculas_monan.to_excel(writer, sheet_name=\"MatMonan\")\n",
        "  #sairam.to_excel(writer, sheet_name=\"Sairam\")\n",
        "  #mat_filtro.to_excel(writer, sheet_name=\"Mat25AGO\")\n",
        "  bolsistas.to_excel(writer, sheet_name=\"Bolsistas\")\n",
        "\n",
        "  tabela_de_rematriculas.to_excel(writer, sheet_name=\"TabRemat\")\n",
        "  #tabela_matriculas_mes.to_excel(writer, sheet_name=\"TabMatMês\")\n",
        "  tab_remat_e_novas.to_excel(writer, sheet_name=\"TabRemat&NovosBarao\")\n",
        "  tab_remat_e_novas_por_empresa.to_excel(writer, sheet_name=\"TabRemat&Novos&antigos\")\n",
        "  #tabela_matriculas_fase.to_excel(writer, sheet_name=\"TabMatFases\")\n",
        "\n",
        "  #tabela_matriculas_aloise.to_excel(writer, sheet_name=\"TabMatAloise\")\n",
        "  #tabela_matriculas_monan.to_excel(writer, sheet_name=\"TabMatMonan\")\n",
        "  #tabela_matriculas_whaluz.to_excel(writer, sheet_name=\"TabMatWhaluz\")\n",
        "  #tabela_matriculas_thazmana.to_excel(writer, sheet_name=\"TabelaMatriculasThazmana\")\n",
        "\n",
        "  matriculas_aloise.to_excel(writer, sheet_name=\"ListaAloise\")\n",
        "  matriculas_monan.to_excel(writer, sheet_name=\"ListaMonan\")\n",
        "  matriculas_whaluz.to_excel(writer, sheet_name=\"ListaWhaluz\")"
      ]
    },
    {
      "cell_type": "markdown",
      "metadata": {
        "id": "izg435lPZEm-"
      },
      "source": [
        "#Enzos & Valentinas"
      ]
    },
    {
      "cell_type": "code",
      "execution_count": null,
      "metadata": {
        "id": "12bkJyBjJMMm"
      },
      "outputs": [],
      "source": [
        "df_matricula.query('Nome == \"ENZO \"')"
      ]
    },
    {
      "cell_type": "code",
      "execution_count": null,
      "metadata": {
        "id": "PRdXAjdN4HAZ"
      },
      "outputs": [],
      "source": [
        "enzos = df_matricula.query('Nome.str.contains(\"ENZO\")', engine='python')\n",
        "enzos.head(5)"
      ]
    },
    {
      "cell_type": "code",
      "execution_count": null,
      "metadata": {
        "id": "yF-r2GtX4Yiy"
      },
      "outputs": [],
      "source": [
        "enzos.count()"
      ]
    },
    {
      "cell_type": "code",
      "execution_count": null,
      "metadata": {
        "id": "MyBdNMjy5u0N"
      },
      "outputs": [],
      "source": [
        "valentinas = df_matricula.query('Nome.str.contains(\"VALENTINA\")', engine='python')\n",
        "valentinas.head()"
      ]
    },
    {
      "cell_type": "code",
      "execution_count": null,
      "metadata": {
        "id": "tq93lZBM50NB"
      },
      "outputs": [],
      "source": [
        "valentinas.count()"
      ]
    },
    {
      "cell_type": "code",
      "execution_count": null,
      "metadata": {
        "id": "aVZn1iC155Nz"
      },
      "outputs": [],
      "source": [
        "miguels = df_matricula.query('Nome.str.contains(\"MIGUEL\")', engine='python')\n",
        "#miguels.head()"
      ]
    },
    {
      "cell_type": "code",
      "execution_count": null,
      "metadata": {
        "id": "nNJMo-9_6x_5"
      },
      "outputs": [],
      "source": [
        "miguels.count()"
      ]
    },
    {
      "cell_type": "code",
      "execution_count": null,
      "metadata": {
        "id": "854LP-TQmCbb"
      },
      "outputs": [],
      "source": [
        "gaias = df_matricula.query('Nome.str.contains(\"GAIA\")', engine='python')\n",
        "#gaias.head()"
      ]
    },
    {
      "cell_type": "code",
      "execution_count": null,
      "metadata": {
        "id": "ndWhTTTjmB_z"
      },
      "outputs": [],
      "source": [
        "gaias.count()"
      ]
    },
    {
      "cell_type": "code",
      "execution_count": null,
      "metadata": {
        "id": "V_45r5WQ7GMC"
      },
      "outputs": [],
      "source": [
        "gaels = df_matricula.query('Nome.str.contains(\"GAEL\")', engine='python')\n",
        "#gaels.head()"
      ]
    },
    {
      "cell_type": "code",
      "execution_count": null,
      "metadata": {
        "id": "I69h3voLjzBI"
      },
      "outputs": [],
      "source": [
        "gaels.count()"
      ]
    },
    {
      "cell_type": "code",
      "execution_count": null,
      "metadata": {
        "id": "2wTJbjlq7Ljj"
      },
      "outputs": [],
      "source": [
        "helenas = df_matricula.query('Nome.str.contains(\"HELENA\")', engine='python')\n",
        "helenas.head()"
      ]
    },
    {
      "cell_type": "code",
      "execution_count": null,
      "metadata": {
        "id": "Ha_SU98s7Q8k"
      },
      "outputs": [],
      "source": [
        "helenas.count()"
      ]
    },
    {
      "cell_type": "code",
      "execution_count": null,
      "metadata": {
        "id": "tJmR3m7W7_14"
      },
      "outputs": [],
      "source": [
        "marias = df_matricula.query('Nome.str.contains(\"MARIA \")', engine='python')\n",
        "marias.head()"
      ]
    },
    {
      "cell_type": "code",
      "execution_count": null,
      "metadata": {
        "id": "P60h33hBKRwA"
      },
      "outputs": [],
      "source": [
        "marias.count()"
      ]
    },
    {
      "cell_type": "code",
      "execution_count": null,
      "metadata": {
        "id": "lOafdIk9oANh"
      },
      "outputs": [],
      "source": [
        "manuelas = df_matricula.query('Nome.str.contains(\"MANUELA\")', engine='python')\n",
        "#manuelas.head(4)"
      ]
    },
    {
      "cell_type": "code",
      "execution_count": null,
      "metadata": {
        "id": "xtSPhxapKawW"
      },
      "outputs": [],
      "source": [
        "manuelas.count()"
      ]
    },
    {
      "cell_type": "code",
      "execution_count": null,
      "metadata": {
        "id": "MibuoIGOKeDv"
      },
      "outputs": [],
      "source": [
        "alices = df_matricula.query('Nome.str.contains(\"ALICE\")', engine='python')\n",
        "alices"
      ]
    },
    {
      "cell_type": "code",
      "execution_count": null,
      "metadata": {
        "id": "sWuZ7Vs_L7rJ"
      },
      "outputs": [],
      "source": [
        "alices.count()"
      ]
    },
    {
      "cell_type": "code",
      "source": [
        "\"\"\"# prompt: crie um grafico com o total de alunos por data em df_matricula\n",
        "\n",
        "import matplotlib.pyplot as plt\n",
        "\n",
        "# Group data by date and count the number of students\n",
        "student_counts_by_date = df_matricula.groupby('Data Matrícula')['Nome'].count()\n",
        "\n",
        "# Create the plot\n",
        "plt.figure(figsize=(12, 6))\n",
        "plt.plot(student_counts_by_date.index, student_counts_by_date.values)\n",
        "plt.xlabel('Data de Matrícula')\n",
        "plt.ylabel('Total de Alunos')\n",
        "plt.title('Total de Alunos por Data de Matrícula')\n",
        "plt.xticks(rotation=45)  # Rotate x-axis labels for better readability\n",
        "plt.tight_layout()\n",
        "plt.show()\"\"\""
      ],
      "metadata": {
        "id": "drDMdShjlo9W"
      },
      "execution_count": null,
      "outputs": []
    }
  ],
  "metadata": {
    "colab": {
      "collapsed_sections": [
        "19oeLF0hzvZ8"
      ],
      "provenance": []
    },
    "kernelspec": {
      "display_name": "Python 3",
      "name": "python3"
    },
    "language_info": {
      "codemirror_mode": {
        "name": "ipython",
        "version": 3
      },
      "file_extension": ".py",
      "mimetype": "text/x-python",
      "name": "python",
      "nbconvert_exporter": "python",
      "pygments_lexer": "ipython3",
      "version": "3.12.2"
    }
  },
  "nbformat": 4,
  "nbformat_minor": 0
}